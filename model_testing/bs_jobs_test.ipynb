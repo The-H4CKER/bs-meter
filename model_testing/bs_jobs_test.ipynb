{
 "cells": [
  {
   "cell_type": "code",
   "execution_count": 32,
   "metadata": {},
   "outputs": [],
   "source": [
    "import pandas\n",
    "import openpyxl\n",
    "import numpy as np\n",
    "import os\n",
    "from matplotlib import pyplot"
   ]
  },
  {
   "cell_type": "code",
   "execution_count": 25,
   "metadata": {},
   "outputs": [],
   "source": [
    "def get_bs_score(text):\n",
    "    return np.random.randint(10)\n"
   ]
  },
  {
   "cell_type": "code",
   "execution_count": null,
   "metadata": {},
   "outputs": [
    {
     "data": {
      "image/png": "[encoded data removed]",
      "text/plain": [
       "<Figure size 640x480 with 1 Axes>"
      ]
     },
     "metadata": {},
     "output_type": "display_data"
    }
   ],
   "source": [
    "os.chdir('c:\\\\Users\\\\marti\\\\OneDrive\\\\Documents\\\\CS Year 2\\\\Group Project\\\\bs-meter')\n",
    "df = pandas.read_excel(\"dataset/test_data/bs_jobs.xlsx\")\n",
    "df = df.dropna(axis=1)\n",
    "categories = ['Flunkies', 'Goons', 'Duct tapers', 'Box tickers', 'Taskmasters']\n",
    "\n",
    "'''\n",
    "flunkies = df.loc[df['Category'] == 'Flunkies']\n",
    "goons = df.loc[df['Category'] == \"Goons\"]\n",
    "duct_tapers = df.loc[df['Category'] == \"Duct tapers\"]\n",
    "box_tickers = df.loc[df['Category'] == \"Box tickers\"]\n",
    "taskmasters = df.loc[df['Category'] == \"Taskmasters\"]\n",
    "'''\n",
    "data = []\n",
    "df['bs_score'] = df['Full text'].apply(get_bs_score)\n",
    "for category in categories:\n",
    "        values = df.loc[df['Category'] == category]\n",
    "        bs = values.loc[df['BS=1 Ctrl=0'] == 1]\n",
    "        ctrl = values.loc[df['BS=1 Ctrl=0'] == 0]\n",
    "        data.append(bs['bs_score'])\n",
    "        data.append(ctrl['bs_score'])\n",
    "\n",
    "        \n",
    "        \n",
    "pyplot.boxplot(bs['bs_score'], positions = np.arange(1,len(categories)))"
   ]
  },
  {
   "cell_type": "code",
   "execution_count": null,
   "metadata": {},
   "outputs": [],
   "source": []
  },
  {
   "cell_type": "code",
   "execution_count": null,
   "metadata": {},
   "outputs": [],
   "source": []
  }
 ],
 "metadata": {
  "kernelspec": {
   "display_name": "Python 3",
   "language": "python",
   "name": "python3"
  },
  "language_info": {
   "codemirror_mode": {
    "name": "ipython",
    "version": 3
   },
   "file_extension": ".py",
   "mimetype": "text/x-python",
   "name": "python",
   "nbconvert_exporter": "python",
   "pygments_lexer": "ipython3",
   "version": "3.12.0"
  }
 },
 "nbformat": 4,
 "nbformat_minor": 2
}
